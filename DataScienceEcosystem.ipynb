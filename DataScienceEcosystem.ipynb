{
 "cells": [
  {
   "cell_type": "markdown",
   "id": "1a4d1d7a",
   "metadata": {},
   "source": [
    " # Data Science Tools and Ecosystem"
   ]
  },
  {
   "cell_type": "markdown",
   "id": "de365db7",
   "metadata": {},
   "source": [
    "Jupyter Notebook 是一個互動式開發環境，廣泛應用於資料科學與機器學習，可在同一文件中結合程式碼、文字敘述、數學公式與視覺化結果。"
   ]
  },
  {
   "cell_type": "markdown",
   "id": "01c53048",
   "metadata": {},
   "source": [
    "一些数据科学家使用的流行语言包括：\n",
    "1. Python  \n",
    "2. R  \n",
    "3. SQL  "
   ]
  },
  {
   "cell_type": "markdown",
   "id": "3dad2ad8",
   "metadata": {},
   "source": [
    "一些数据科学家常用的库包括：  \n",
    "1. Pandas  \n",
    "2. NumPy  \n",
    "3. Matplotlib  \n"
   ]
  },
  {
   "cell_type": "markdown",
   "id": "59ba2e85",
   "metadata": {},
   "source": [
    "| Data Science Tools |\n",
    "|--------------------|\n",
    "| Jupyter Notebook   |\n",
    "| RStudio            |\n",
    "| Apache Spark       |"
   ]
  },
  {
   "cell_type": "markdown",
   "id": "82bbd468",
   "metadata": {},
   "source": [
    "### 以下是一些在 Python 中评估算术表达式的示例。\n",
    "# 加法\n",
    "# 3 + 2\n",
    "# 乘法\n",
    "# 5 * 4\n",
    "# 除法\n",
    "# 10 / 2\n",
    "# 幂运算\n",
    "# 2 ** 3\n"
   ]
  },
  {
   "cell_type": "code",
   "execution_count": 18,
   "id": "b8ef68ca",
   "metadata": {},
   "outputs": [
    {
     "data": {
      "text/plain": [
       "17"
      ]
     },
     "execution_count": 18,
     "metadata": {},
     "output_type": "execute_result"
    }
   ],
   "source": [
    "# 这是一个简单的算术表达式，用于先乘后加整数\n",
    "(3 * 4) + 5\n"
   ]
  },
  {
   "cell_type": "code",
   "execution_count": 19,
   "id": "b0b27571",
   "metadata": {},
   "outputs": [
    {
     "data": {
      "text/plain": [
       "3.3333333333333335"
      ]
     },
     "execution_count": 19,
     "metadata": {},
     "output_type": "execute_result"
    }
   ],
   "source": [
    "# 这将通过除以 60 将 200 分钟转换为小时\n",
    "200/60"
   ]
  },
  {
   "cell_type": "markdown",
   "id": "a76003e7",
   "metadata": {},
   "source": [
    "**目标：**\n",
    "\n",
    "- 列出数据科学的流行语言\n",
    "- 介绍常见的数据科学库和工具\n",
    "- 展示 Jupyter Notebook 的基本使用方法\n",
    "- 演示如何执行简单的算术表达式\n",
    "- 探索数据科学的生态系统\n"
   ]
  },
  {
   "cell_type": "markdown",
   "id": "8c8d42cd",
   "metadata": {},
   "source": [
    "## 作者\n",
    "\n",
    "Fang Mike\n"
   ]
  }
 ],
 "metadata": {
  "kernelspec": {
   "display_name": "Python 3",
   "language": "python",
   "name": "python3"
  },
  "language_info": {
   "codemirror_mode": {
    "name": "ipython",
    "version": 3
   },
   "file_extension": ".py",
   "mimetype": "text/x-python",
   "name": "python",
   "nbconvert_exporter": "python",
   "pygments_lexer": "ipython3",
   "version": "3.11.9"
  }
 },
 "nbformat": 4,
 "nbformat_minor": 5
}
